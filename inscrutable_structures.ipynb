{
  "nbformat": 4,
  "nbformat_minor": 0,
  "metadata": {
    "colab": {
      "provenance": []
    },
    "kernelspec": {
      "name": "python3",
      "display_name": "Python 3"
    },
    "language_info": {
      "name": "python"
    }
  },
  "cells": [
    {
      "cell_type": "code",
      "execution_count": 1,
      "metadata": {
        "id": "6OQAAnkfU_tn"
      },
      "outputs": [],
      "source": [
        "import pandas as pd\n",
        "import pprint as pp"
      ]
    },
    {
      "cell_type": "markdown",
      "source": [
        "Read data into a Pandas dataframe."
      ],
      "metadata": {
        "id": "DSfRs03USJ7G"
      }
    },
    {
      "cell_type": "code",
      "source": [
        "data = pd.read_csv('history_data.csv')"
      ],
      "metadata": {
        "id": "HJYBxcuxj9xV"
      },
      "execution_count": 3,
      "outputs": []
    },
    {
      "cell_type": "markdown",
      "source": [
        "Convert \"characterization of blueprints\" data into numbers from 0 to 2 corresponding to how detailed the blueprints are. This is the only cardinal attribute."
      ],
      "metadata": {
        "id": "fkXvaTGUSHXS"
      }
    },
    {
      "cell_type": "code",
      "source": [
        "data['Characterization of Blueprints'] = data['Characterization of Blueprints'].astype('category')\n",
        "data['Characterization of Blueprints'] = data['Characterization of Blueprints'].cat.reorder_categories(['Hastily Sketched', 'Deceptively Ordinary', 'Obsessively Detailed'], ordered=True)\n",
        "data['Characterization of Blueprints'] = data['Characterization of Blueprints'].cat.codes"
      ],
      "metadata": {
        "id": "kbLWE25qkMIG"
      },
      "execution_count": 5,
      "outputs": []
    },
    {
      "cell_type": "markdown",
      "source": [
        "Convert the rest of the data into \"dummy variables\" so we can perform regression on it."
      ],
      "metadata": {
        "id": "oC1T3PF5SmMJ"
      }
    },
    {
      "cell_type": "code",
      "source": [
        "dummyData = pd.get_dummies(data, prefix=['Background of Architect', 'Structure Type', 'Required Construction Materials', 'Is Completed Structure Impossible?'], drop_first=True)\n",
        "dummyData.head()"
      ],
      "metadata": {
        "id": "LA2VIjnYnmZh"
      },
      "execution_count": 9,
      "outputs": []
    },
    {
      "cell_type": "code",
      "source": [
        "X = data[['Background of Architect',\n",
        "               'Structure Type',\n",
        "               'Required Construction Materials',\n",
        "               'Characterization of Blueprints']]\n",
        "Y = data['Is Completed Structure Impossible?']"
      ],
      "metadata": {
        "id": "d22AQGkoq3ep"
      },
      "execution_count": 11,
      "outputs": []
    },
    {
      "cell_type": "code",
      "source": [
        "X = pd.get_dummies(data=X, drop_first=True)\n",
        "Y = pd.get_dummies(data=X, drop_first=True)"
      ],
      "metadata": {
        "id": "FLGzYXMWrmhs"
      },
      "execution_count": 12,
      "outputs": []
    },
    {
      "cell_type": "markdown",
      "source": [
        "Perform the regression analysis."
      ],
      "metadata": {
        "id": "MEAF-Tg5TBND"
      }
    },
    {
      "cell_type": "code",
      "source": [
        "from sklearn import linear_model\n",
        "from sklearn.model_selection import train_test_split"
      ],
      "metadata": {
        "id": "SoWmxczNqbeY"
      },
      "execution_count": 13,
      "outputs": []
    },
    {
      "cell_type": "code",
      "source": [
        "X_train, X_test, Y_train, Y_test = train_test_split(X, Y, test_size = .20, random_state = 42)\n",
        "\n",
        "regr = linear_model.LinearRegression() # Do not use fit_intercept = False if you have removed 1 column after dummy encoding\n",
        "regr.fit(X_train, Y_train)\n",
        "predicted = regr.predict(X_test)"
      ],
      "metadata": {
        "id": "hjDQwYhQryxH"
      },
      "execution_count": 14,
      "outputs": []
    },
    {
      "cell_type": "code",
      "source": [
        "pp.pprint(predicted)"
      ],
      "metadata": {
        "colab": {
          "base_uri": "https://localhost:8080/"
        },
        "id": "JGeDUeuusJfq",
        "outputId": "785a4dc3-f89a-4acf-9337-96dec645f2b7"
      },
      "execution_count": 15,
      "outputs": [
        {
          "output_type": "stream",
          "name": "stdout",
          "text": [
            "array([[ 2.00000000e+00, -1.65678666e-16,  4.72175286e-16, ...,\n",
            "        -1.51148168e-16, -1.12873307e-16, -5.87831102e-17],\n",
            "       [ 2.00000000e+00,  2.59839943e-16,  9.51162877e-16, ...,\n",
            "        -2.52145946e-16, -2.49088597e-16, -3.04989722e-16],\n",
            "       [ 1.00000000e+00, -4.68244087e-17,  2.58466796e-16, ...,\n",
            "        -2.62963106e-16,  9.33403943e-18,  6.45354062e-17],\n",
            "       ...,\n",
            "       [ 2.83889751e-15,  4.39583339e-16, -5.31351902e-16, ...,\n",
            "        -2.02333295e-16, -2.38194415e-17, -2.31000002e-16],\n",
            "       [ 2.00000000e+00,  2.39571712e-16,  2.59416046e-16, ...,\n",
            "         2.57073109e-17, -2.42478450e-16,  1.20840851e-16],\n",
            "       [ 2.00000000e+00, -3.82255512e-16,  4.87697297e-16, ...,\n",
            "         1.00000000e+00, -5.32514733e-16, -1.97010813e-16]])\n"
          ]
        }
      ]
    }
  ]
}